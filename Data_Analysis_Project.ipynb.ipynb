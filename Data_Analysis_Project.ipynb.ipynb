{
 "cells": [
  {
   "cell_type": "markdown",
   "metadata": {},
   "source": [
    " # Projeto ciencia de dados\n",
    " ### Passo 1: Definição do problema\n",
    "O objetivo deste projeto será explorar e analisar os dados de saúde e hábitos de vida para identificar padrões que possam influenciar a qualidade do sono e o nível de atividade física."
   ]
  },
  {
   "cell_type": "code",
   "execution_count": 32,
   "metadata": {},
   "outputs": [],
   "source": [
    "import pandas as pd\n",
    "\n",
    "#Carregar as dados \n",
    "dados = pd.read_csv(\"dados.csv\")\n"
   ]
  },
  {
   "cell_type": "markdown",
   "metadata": {},
   "source": [
    " #### Passo 2: Carregamento e visualização dos dados\n",
    "\n",
    "Primeiro, vamos carregar os dados e visualizar suas características. A ideia aqui é entender como os dados estão organizados e se há valores ausentes."
   ]
  },
  {
   "cell_type": "code",
   "execution_count": 33,
   "metadata": {},
   "outputs": [
    {
     "data": {
      "text/html": [
       "<div>\n",
       "<style scoped>\n",
       "    .dataframe tbody tr th:only-of-type {\n",
       "        vertical-align: middle;\n",
       "    }\n",
       "\n",
       "    .dataframe tbody tr th {\n",
       "        vertical-align: top;\n",
       "    }\n",
       "\n",
       "    .dataframe thead th {\n",
       "        text-align: right;\n",
       "    }\n",
       "</style>\n",
       "<table border=\"1\" class=\"dataframe\">\n",
       "  <thead>\n",
       "    <tr style=\"text-align: right;\">\n",
       "      <th></th>\n",
       "      <th>User ID</th>\n",
       "      <th>Age</th>\n",
       "      <th>Gender</th>\n",
       "      <th>Sleep Quality</th>\n",
       "      <th>Bedtime</th>\n",
       "      <th>Wake-up Time</th>\n",
       "      <th>Daily Steps</th>\n",
       "      <th>Calories Burned</th>\n",
       "      <th>Physical Activity Level</th>\n",
       "      <th>Dietary Habits</th>\n",
       "      <th>Sleep Disorders</th>\n",
       "      <th>Medication Usage</th>\n",
       "    </tr>\n",
       "  </thead>\n",
       "  <tbody>\n",
       "    <tr>\n",
       "      <th>0</th>\n",
       "      <td>1</td>\n",
       "      <td>25</td>\n",
       "      <td>f</td>\n",
       "      <td>8</td>\n",
       "      <td>23:00</td>\n",
       "      <td>06:30</td>\n",
       "      <td>8000</td>\n",
       "      <td>2500</td>\n",
       "      <td>medium</td>\n",
       "      <td>healthy</td>\n",
       "      <td>no</td>\n",
       "      <td>no</td>\n",
       "    </tr>\n",
       "    <tr>\n",
       "      <th>1</th>\n",
       "      <td>2</td>\n",
       "      <td>34</td>\n",
       "      <td>m</td>\n",
       "      <td>7</td>\n",
       "      <td>00:30</td>\n",
       "      <td>07:00</td>\n",
       "      <td>5000</td>\n",
       "      <td>2200</td>\n",
       "      <td>low</td>\n",
       "      <td>unhealthy</td>\n",
       "      <td>yes</td>\n",
       "      <td>yes</td>\n",
       "    </tr>\n",
       "    <tr>\n",
       "      <th>2</th>\n",
       "      <td>3</td>\n",
       "      <td>29</td>\n",
       "      <td>f</td>\n",
       "      <td>9</td>\n",
       "      <td>22:45</td>\n",
       "      <td>06:45</td>\n",
       "      <td>9000</td>\n",
       "      <td>2700</td>\n",
       "      <td>high</td>\n",
       "      <td>healthy</td>\n",
       "      <td>no</td>\n",
       "      <td>no</td>\n",
       "    </tr>\n",
       "    <tr>\n",
       "      <th>3</th>\n",
       "      <td>4</td>\n",
       "      <td>41</td>\n",
       "      <td>m</td>\n",
       "      <td>5</td>\n",
       "      <td>01:00</td>\n",
       "      <td>06:30</td>\n",
       "      <td>4000</td>\n",
       "      <td>2100</td>\n",
       "      <td>low</td>\n",
       "      <td>unhealthy</td>\n",
       "      <td>yes</td>\n",
       "      <td>no</td>\n",
       "    </tr>\n",
       "    <tr>\n",
       "      <th>4</th>\n",
       "      <td>5</td>\n",
       "      <td>22</td>\n",
       "      <td>f</td>\n",
       "      <td>8</td>\n",
       "      <td>23:30</td>\n",
       "      <td>07:00</td>\n",
       "      <td>10000</td>\n",
       "      <td>2800</td>\n",
       "      <td>high</td>\n",
       "      <td>medium</td>\n",
       "      <td>no</td>\n",
       "      <td>no</td>\n",
       "    </tr>\n",
       "  </tbody>\n",
       "</table>\n",
       "</div>"
      ],
      "text/plain": [
       "   User ID  Age Gender  Sleep Quality Bedtime Wake-up Time  Daily Steps  \\\n",
       "0        1   25      f              8   23:00        06:30         8000   \n",
       "1        2   34      m              7   00:30        07:00         5000   \n",
       "2        3   29      f              9   22:45        06:45         9000   \n",
       "3        4   41      m              5   01:00        06:30         4000   \n",
       "4        5   22      f              8   23:30        07:00        10000   \n",
       "\n",
       "   Calories Burned Physical Activity Level Dietary Habits Sleep Disorders  \\\n",
       "0             2500                  medium        healthy              no   \n",
       "1             2200                     low      unhealthy             yes   \n",
       "2             2700                    high        healthy              no   \n",
       "3             2100                     low      unhealthy             yes   \n",
       "4             2800                    high         medium              no   \n",
       "\n",
       "  Medication Usage  \n",
       "0               no  \n",
       "1              yes  \n",
       "2               no  \n",
       "3               no  \n",
       "4               no  "
      ]
     },
     "execution_count": 33,
     "metadata": {},
     "output_type": "execute_result"
    }
   ],
   "source": [
    "# Exiba as primeiras lihas do Dataframe\n",
    "dados.head()"
   ]
  },
  {
   "cell_type": "markdown",
   "metadata": {},
   "source": [
    "### Passo 3: Limpeza e preparação dos dados\n",
    "\n",
    "Verificar e tratar valores ausentes.\n",
    "Converter colunas como Bedtime e Wake-up Time para um formato de tempo adequado.\n",
    "Normalizar colunas numéricas se necessário (como Daily Steps e Calories Burned)."
   ]
  },
  {
   "cell_type": "code",
   "execution_count": 34,
   "metadata": {},
   "outputs": [],
   "source": [
    "# Verificar dados ausentes\n",
    "dados.isnull().sum()\n",
    "\n",
    "# Converter Bedtime e Wake-up Time para datetime \n",
    "dados['Bedtime'] = pd.to_datetime(dados['Bedtime'], format='%H:%M')\n",
    "dados['Wake-up Time'] = pd.to_datetime(dados['Wake-up Time'], format='%H:%M')"
   ]
  },
  {
   "cell_type": "markdown",
   "metadata": {},
   "source": [
    " ### Passo 4: Análise exploratória\n",
    "Aqui vamos explorar a relação entre variáveis como \"Sleep Quality\", \"Daily Steps\", \"Physical Activity Level\" e \"Dietary Habits\"."
   ]
  },
  {
   "cell_type": "code",
   "execution_count": 35,
   "metadata": {},
   "outputs": [
    {
     "data": {
      "image/png": "[encoded data removed]",
      "text/plain": [
       "<Figure size 640x480 with 1 Axes>"
      ]
     },
     "metadata": {},
     "output_type": "display_data"
    }
   ],
   "source": [
    "import seaborn as sns\n",
    "import matplotlib.pyplot as plt\n",
    "\n",
    "# Exemplo: relação entre Sleep Quality e Daily Steps\n",
    "sns.scatterplot(x='Daily Steps', y='Sleep Quality', hue='Physical Activity Level', data=dados)\n",
    "plt.title('Qualidade do Sono vs Passos Diários')\n",
    "plt.show()\n"
   ]
  },
  {
   "cell_type": "markdown",
   "metadata": {},
   "source": [
    "### Passo 5: Análise estatística\n",
    "Podemos calcular correlações entre as variáveis numéricas, como passos diários e calorias queimadas.\n"
   ]
  },
  {
   "cell_type": "code",
   "execution_count": 36,
   "metadata": {},
   "outputs": [
    {
     "data": {
      "text/html": [
       "<div>\n",
       "<style scoped>\n",
       "    .dataframe tbody tr th:only-of-type {\n",
       "        vertical-align: middle;\n",
       "    }\n",
       "\n",
       "    .dataframe tbody tr th {\n",
       "        vertical-align: top;\n",
       "    }\n",
       "\n",
       "    .dataframe thead th {\n",
       "        text-align: right;\n",
       "    }\n",
       "</style>\n",
       "<table border=\"1\" class=\"dataframe\">\n",
       "  <thead>\n",
       "    <tr style=\"text-align: right;\">\n",
       "      <th></th>\n",
       "      <th>Sleep Quality</th>\n",
       "      <th>Daily Steps</th>\n",
       "      <th>Calories Burned</th>\n",
       "    </tr>\n",
       "  </thead>\n",
       "  <tbody>\n",
       "    <tr>\n",
       "      <th>Sleep Quality</th>\n",
       "      <td>1.000000</td>\n",
       "      <td>0.976277</td>\n",
       "      <td>0.973557</td>\n",
       "    </tr>\n",
       "    <tr>\n",
       "      <th>Daily Steps</th>\n",
       "      <td>0.976277</td>\n",
       "      <td>1.000000</td>\n",
       "      <td>0.986750</td>\n",
       "    </tr>\n",
       "    <tr>\n",
       "      <th>Calories Burned</th>\n",
       "      <td>0.973557</td>\n",
       "      <td>0.986750</td>\n",
       "      <td>1.000000</td>\n",
       "    </tr>\n",
       "  </tbody>\n",
       "</table>\n",
       "</div>"
      ],
      "text/plain": [
       "                 Sleep Quality  Daily Steps  Calories Burned\n",
       "Sleep Quality         1.000000     0.976277         0.973557\n",
       "Daily Steps           0.976277     1.000000         0.986750\n",
       "Calories Burned       0.973557     0.986750         1.000000"
      ]
     },
     "execution_count": 36,
     "metadata": {},
     "output_type": "execute_result"
    }
   ],
   "source": [
    "# Correlação entre variáveis numéricas\n",
    "correlacoes = dados[['Sleep Quality', 'Daily Steps', 'Calories Burned']].corr()\n",
    "correlacoes"
   ]
  },
  {
   "cell_type": "markdown",
   "metadata": {},
   "source": [
    "### Passo 6: Modelagem preditiva\n",
    "Uma abordagem interessante seria construir um modelo que possa prever a qualidade do sono com base em características como nível de atividade física, dieta, uso de medicamentos, etc."
   ]
  },
  {
   "cell_type": "code",
   "execution_count": 37,
   "metadata": {},
   "outputs": [
    {
     "name": "stdout",
     "output_type": "stream",
     "text": [
      "Acurácia do modelo: 0.969714058776807\n"
     ]
    }
   ],
   "source": [
    "from sklearn.model_selection import train_test_split\n",
    "from sklearn.ensemble import RandomForestRegressor\n",
    "\n",
    "# Separar as variáveis independentes e dependentes\n",
    "X = dados[['Daily Steps', 'Calories Burned', 'Physical Activity Level', 'Dietary Habits']]\n",
    "y = dados['Sleep Quality']\n",
    "\n",
    "# Converter colunas categóricas\n",
    "X = pd.get_dummies(X)\n",
    "\n",
    "# Dividir os dados em treino e teste\n",
    "X_train, X_test, y_train, y_test = train_test_split(X, y, test_size=0.2, random_state=42)\n",
    "\n",
    "# Treinar um modelo de regressão\n",
    "modelo = RandomForestRegressor()\n",
    "modelo.fit(X_train, y_train)\n",
    "\n",
    "# Avaliar o modelo\n",
    "print(f'Acurácia do modelo: {modelo.score(X_test, y_test)}')\n"
   ]
  },
  {
   "cell_type": "markdown",
   "metadata": {},
   "source": [
    "### Passo 7: Conclusão\n",
    "Após a modelagem, você poderá verificar quais variáveis têm mais impacto na qualidade do sono e também explorar recomendações baseadas nos resultados."
   ]
  },
  {
   "cell_type": "markdown",
   "metadata": {},
   "source": []
  }
 ],
 "metadata": {
  "kernelspec": {
   "display_name": "Python 3",
   "language": "python",
   "name": "python3"
  },
  "language_info": {
   "codemirror_mode": {
    "name": "ipython",
    "version": 3
   },
   "file_extension": ".py",
   "mimetype": "text/x-python",
   "name": "python",
   "nbconvert_exporter": "python",
   "pygments_lexer": "ipython3",
   "version": "3.12.5"
  }
 },
 "nbformat": 4,
 "nbformat_minor": 2
}
